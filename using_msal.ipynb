{
 "cells": [
  {
   "cell_type": "code",
   "execution_count": 4,
   "metadata": {},
   "outputs": [],
   "source": [
    "import configparser\n",
    "import webbrowser\n",
    "import os\n",
    "import requests\n",
    "import base64\n",
    "import PyPDF2\n",
    "import re\n",
    "import msal"
   ]
  },
  {
   "cell_type": "code",
   "execution_count": null,
   "metadata": {},
   "outputs": [],
   "source": [
    "config = configparser.ConfigParser()\n",
    "config.read(['config.cfg', 'config.dev.cfg'])\n",
    "azure_settings = config['azure']"
   ]
  },
  {
   "cell_type": "code",
   "execution_count": null,
   "metadata": {},
   "outputs": [],
   "source": [
    "client_id = azure_settings['clientId']\n",
    "tenant_id = azure_settings['tenantId']\n",
    "scopes = azure_settings['graphUserScopes'].split(' ')"
   ]
  },
  {
   "cell_type": "code",
   "execution_count": null,
   "metadata": {},
   "outputs": [],
   "source": [
    "access_token_cache = msal.SerializableTokenCache()"
   ]
  },
  {
   "cell_type": "markdown",
   "metadata": {},
   "source": [
    "# Getting access token for particular account"
   ]
  },
  {
   "cell_type": "code",
   "execution_count": null,
   "metadata": {},
   "outputs": [],
   "source": [
    "client = msal.PublicClientApplication(client_id, token_cache=access_token_cache)\n",
    "flow = client.initiate_device_flow(scopes=scopes)"
   ]
  },
  {
   "cell_type": "code",
   "execution_count": null,
   "metadata": {},
   "outputs": [],
   "source": [
    "verification_uri = flow['verification_uri']\n",
    "user_code = flow['user_code']\n",
    "\n",
    "# webbrowser.open(verification_uri)\n",
    "print(flow['message'])"
   ]
  },
  {
   "cell_type": "code",
   "execution_count": null,
   "metadata": {},
   "outputs": [],
   "source": [
    "access_token = client.acquire_token_by_device_flow(flow)\n",
    "\n",
    "with open('access_token.json', 'w') as f:\n",
    "    f.write(access_token_cache.serialize())"
   ]
  },
  {
   "cell_type": "code",
   "execution_count": null,
   "metadata": {},
   "outputs": [],
   "source": [
    "access_token"
   ]
  },
  {
   "cell_type": "markdown",
   "metadata": {},
   "source": [
    "# Reading from saved json"
   ]
  },
  {
   "cell_type": "code",
   "execution_count": null,
   "metadata": {},
   "outputs": [],
   "source": [
    "if os.path.exists('access_token.json'):\n",
    "    with open('access_token.json', 'r') as f:\n",
    "        access_token_cache.deserialize(f.read())"
   ]
  },
  {
   "cell_type": "code",
   "execution_count": null,
   "metadata": {},
   "outputs": [],
   "source": [
    "client = msal.PublicClientApplication(client_id, token_cache=access_token_cache)\n",
    "# flow = client.initiate_device_flow(scopes=scopes)"
   ]
  },
  {
   "cell_type": "code",
   "execution_count": null,
   "metadata": {},
   "outputs": [],
   "source": [
    "accounts = client.get_accounts()[0]\n",
    "accounts"
   ]
  },
  {
   "cell_type": "code",
   "execution_count": null,
   "metadata": {},
   "outputs": [],
   "source": [
    "token = client.acquire_token_silent(scopes, account=accounts)\n",
    "token"
   ]
  },
  {
   "cell_type": "code",
   "execution_count": null,
   "metadata": {},
   "outputs": [],
   "source": [
    "headers = {\n",
    "        'Authorization': 'Bearer ' + token['access_token']\n",
    "    }"
   ]
  },
  {
   "cell_type": "code",
   "execution_count": null,
   "metadata": {},
   "outputs": [],
   "source": [
    "Graph_API_Endpoint ='https://graph.microsoft.com/v1.0'\n",
    "endpoint = Graph_API_Endpoint + '/me/photo/$value'"
   ]
  },
  {
   "cell_type": "code",
   "execution_count": null,
   "metadata": {},
   "outputs": [],
   "source": [
    "response = requests.get(endpoint, headers=headers)"
   ]
  },
  {
   "cell_type": "code",
   "execution_count": null,
   "metadata": {},
   "outputs": [],
   "source": [
    "response"
   ]
  },
  {
   "cell_type": "code",
   "execution_count": null,
   "metadata": {},
   "outputs": [],
   "source": [
    "with open('photo.png', 'wb') as f:\n",
    "    f.write(response.content)"
   ]
  },
  {
   "cell_type": "markdown",
   "metadata": {},
   "source": [
    "## Reading the mail"
   ]
  },
  {
   "cell_type": "code",
   "execution_count": null,
   "metadata": {},
   "outputs": [],
   "source": [
    "headers = {\n",
    "        'Authorization': 'Bearer ' + token['access_token']\n",
    "    }"
   ]
  },
  {
   "cell_type": "code",
   "execution_count": null,
   "metadata": {},
   "outputs": [],
   "source": [
    "Graph_API_Endpoint ='https://graph.microsoft.com/v1.0'\n",
    "# endpoint = Graph_API_Endpoint + '/me/messages?$search=\"pizza bill\"'\n",
    "endpoint = Graph_API_Endpoint + '/me/messages?$search=\"VOX-0001000022476409\"'"
   ]
  },
  {
   "cell_type": "code",
   "execution_count": null,
   "metadata": {},
   "outputs": [],
   "source": [
    "response = requests.get(endpoint, headers=headers)"
   ]
  },
  {
   "cell_type": "code",
   "execution_count": null,
   "metadata": {},
   "outputs": [],
   "source": [
    "response"
   ]
  },
  {
   "cell_type": "code",
   "execution_count": null,
   "metadata": {},
   "outputs": [],
   "source": [
    "response.json()"
   ]
  },
  {
   "cell_type": "code",
   "execution_count": null,
   "metadata": {},
   "outputs": [],
   "source": [
    "mailId = response.json()['value'][0]['id']\n",
    "mailId"
   ]
  },
  {
   "cell_type": "markdown",
   "metadata": {},
   "source": [
    "### Downloading Attachment"
   ]
  },
  {
   "cell_type": "code",
   "execution_count": null,
   "metadata": {},
   "outputs": [],
   "source": [
    "headers = {\n",
    "        'Authorization': 'Bearer ' + token['access_token']\n",
    "    }"
   ]
  },
  {
   "cell_type": "code",
   "execution_count": null,
   "metadata": {},
   "outputs": [],
   "source": [
    "Graph_API_Endpoint ='https://graph.microsoft.com/v1.0'\n",
    "endpoint = Graph_API_Endpoint + f'/me/messages/{mailId}/attachments'"
   ]
  },
  {
   "cell_type": "code",
   "execution_count": null,
   "metadata": {},
   "outputs": [],
   "source": [
    "response = requests.get(endpoint, headers=headers)"
   ]
  },
  {
   "cell_type": "code",
   "execution_count": null,
   "metadata": {},
   "outputs": [],
   "source": [
    "fileAttachments = response.json()['value'][0]"
   ]
  },
  {
   "cell_type": "code",
   "execution_count": null,
   "metadata": {},
   "outputs": [],
   "source": [
    "response.json()"
   ]
  },
  {
   "cell_type": "code",
   "execution_count": null,
   "metadata": {},
   "outputs": [],
   "source": [
    "\"\"\"\n",
    "Another way of getting each attachment by there respective id\n",
    "\"\"\"\n",
    "\n",
    "# attchmentId = fileAttachments['id']\n",
    "# Graph_API_Endpoint ='https://graph.microsoft.com/v1.0'\n",
    "# # endpoint = Graph_API_Endpoint + f'/me/messages/{mailId}/attachments/{attchmentId}'\n",
    "# # for just the value\n",
    "# endpoint = Graph_API_Endpoint + f'/me/messages/{mailId}/attachments/{attchmentId}/$value'\n",
    "# response = requests.get(endpoint, headers=headers)\n",
    "# # response.json()\n",
    "# # response.content"
   ]
  },
  {
   "cell_type": "code",
   "execution_count": null,
   "metadata": {},
   "outputs": [],
   "source": [
    "with open('./response_downloads/' + fileAttachments['name'], 'wb') as f:\n",
    "    f.write(base64.b64decode(fileAttachments['contentBytes']))\n",
    "    # f.write(response.content)"
   ]
  },
  {
   "cell_type": "markdown",
   "metadata": {},
   "source": [
    "### finding values inside pdf"
   ]
  },
  {
   "cell_type": "code",
   "execution_count": 1,
   "metadata": {},
   "outputs": [],
   "source": [
    "pdfFileName = \"./response_downloads/PYTHON TEST.pdf\""
   ]
  },
  {
   "cell_type": "code",
   "execution_count": 2,
   "metadata": {},
   "outputs": [],
   "source": [
    "searchText = '1,234,567.000'"
   ]
  },
  {
   "cell_type": "code",
   "execution_count": 5,
   "metadata": {},
   "outputs": [],
   "source": [
    "pdfFile = PyPDF2.PdfFileReader(pdfFileName)"
   ]
  },
  {
   "cell_type": "code",
   "execution_count": 6,
   "metadata": {},
   "outputs": [
    {
     "data": {
      "text/plain": [
       "1"
      ]
     },
     "execution_count": 6,
     "metadata": {},
     "output_type": "execute_result"
    }
   ],
   "source": [
    "totalPages = pdfFile.getNumPages()\n",
    "totalPages"
   ]
  },
  {
   "cell_type": "code",
   "execution_count": 21,
   "metadata": {},
   "outputs": [
    {
     "name": "stdout",
     "output_type": "stream",
     "text": [
      "Found 1,234,567.000 on page 1\n"
     ]
    }
   ],
   "source": [
    "for i in range(totalPages):\n",
    "    page = pdfFile.getPage(i)\n",
    "    pageContent = page.extractText().replace('\\n', '')\n",
    "    if searchText in pageContent:\n",
    "        print(f\"Found {searchText} on page {i+1}\")\n",
    "        # print(pageContent)"
   ]
  },
  {
   "cell_type": "code",
   "execution_count": 12,
   "metadata": {},
   "outputs": [],
   "source": [
    "page = pdfFile.getPage(i)\n",
    "pageContent = page.extractText()"
   ]
  },
  {
   "cell_type": "code",
   "execution_count": 20,
   "metadata": {},
   "outputs": [
    {
     "name": "stdout",
     "output_type": "stream",
     "text": [
      "Fund IDHolder IDDateOrder No.EmailValuation/NAV DateTrade DateExpected Payment DateNo. of Shares RedeemedRedemption PriceUSDGross Redemption ProceedsUSDNet Redemption ProceedsUSDAmount to be PaidUSDUSDPlease be advised that the fund may settle your redemption proceeds on a date earlier than the datenotified on the Contract Note.TESTTESTTEST TEST TEST TEST TEST TESTTESTTESTTESTTEST TESTAccount ID :TESTContract No. :TEST:TEST:TEST:TESTAccount name: TESTTESTTESTAmount ReceivableYour balance following this transaction will be NA units / shares.1,234,567.000\n"
     ]
    }
   ],
   "source": [
    "raw = pageContent.replace('\\n','')\n",
    "print(raw)"
   ]
  },
  {
   "cell_type": "code",
   "execution_count": 22,
   "metadata": {},
   "outputs": [
    {
     "ename": "NameError",
     "evalue": "name 'pd' is not defined",
     "output_type": "error",
     "traceback": [
      "\u001b[0;31m---------------------------------------------------------------------------\u001b[0m",
      "\u001b[0;31mNameError\u001b[0m                                 Traceback (most recent call last)",
      "\u001b[1;32m/home/thomas/projects/outlook_mail_reader/using_msal.ipynb Cell 43\u001b[0m in \u001b[0;36m<cell line: 1>\u001b[0;34m()\u001b[0m\n\u001b[0;32m----> <a href='vscode-notebook-cell://wsl%2Bdebian/home/thomas/projects/outlook_mail_reader/using_msal.ipynb#X60sdnNjb2RlLXJlbW90ZQ%3D%3D?line=0'>1</a>\u001b[0m pd\n",
      "\u001b[0;31mNameError\u001b[0m: name 'pd' is not defined"
     ]
    }
   ],
   "source": [
    "import pandas as pd\n",
    "\n",
    "pd.read_excel('./dataset/file1.xlsx')"
   ]
  }
 ],
 "metadata": {
  "kernelspec": {
   "display_name": "Python 3 (ipykernel)",
   "language": "python",
   "name": "python3"
  },
  "language_info": {
   "codemirror_mode": {
    "name": "ipython",
    "version": 3
   },
   "file_extension": ".py",
   "mimetype": "text/x-python",
   "name": "python",
   "nbconvert_exporter": "python",
   "pygments_lexer": "ipython3",
   "version": "3.9.12"
  },
  "vscode": {
   "interpreter": {
    "hash": "d2af68a4b51633f13995ebfae92a57b161ed6e58c9d8595f65fa30edeb049295"
   }
  }
 },
 "nbformat": 4,
 "nbformat_minor": 4
}
