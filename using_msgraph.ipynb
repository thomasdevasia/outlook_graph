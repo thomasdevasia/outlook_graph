{
 "cells": [
  {
   "cell_type": "code",
   "execution_count": null,
   "metadata": {},
   "outputs": [],
   "source": [
    "import msal\n",
    "print(msal.__version__)"
   ]
  },
  {
   "cell_type": "markdown",
   "metadata": {},
   "source": [
    "## Graph"
   ]
  },
  {
   "cell_type": "code",
   "execution_count": null,
   "metadata": {},
   "outputs": [],
   "source": [
    "from configparser import SectionProxy\n",
    "from azure.identity import DeviceCodeCredential, ClientSecretCredential\n",
    "from msgraph.core import GraphClient\n"
   ]
  },
  {
   "cell_type": "code",
   "execution_count": null,
   "metadata": {},
   "outputs": [],
   "source": [
    "config = configparser.ConfigParser()\n",
    "config.read(['config.cfg', 'config.dev.cfg'])\n",
    "azure_settings = config['azure']\n",
    "\n",
    "settings: SectionProxy\n",
    "device_code_credential: DeviceCodeCredential\n",
    "user_client: GraphClient\n",
    "settings: SectionProxy\n",
    "\n",
    "settings = azure_settings\n",
    "# print(settings['authTenant'])\n",
    "client_id = settings['clientId']\n",
    "tenant_id = settings['authTenant']\n",
    "graph_scopes = settings['graphUserScopes'].split(' ')\n",
    "\n",
    "device_code_credential = DeviceCodeCredential(client_id, tenant_id = tenant_id)\n",
    "\n",
    "user_client = GraphClient(credential=device_code_credential, scopes=graph_scopes)\n",
    "\n",
    "graph_scopes = settings['graphUserScopes']\n",
    "\n",
    "graph_scopes\n",
    "\n",
    "access_token = device_code_credential.get_token(graph_scopes)\n"
   ]
  },
  {
   "cell_type": "code",
   "execution_count": null,
   "metadata": {},
   "outputs": [],
   "source": [
    "access_token"
   ]
  },
  {
   "cell_type": "code",
   "execution_count": null,
   "metadata": {},
   "outputs": [],
   "source": [
    "endpoint = '/me'\n",
    "# Only request specific properties\n",
    "select = 'displayName,mail,userPrincipalName'\n",
    "request_url = f'{endpoint}?$select={select}'\n",
    "\n",
    "user_response = user_client.get(request_url)\n",
    "user_response.json()"
   ]
  },
  {
   "cell_type": "code",
   "execution_count": null,
   "metadata": {},
   "outputs": [],
   "source": [
    "class Graph:\n",
    "    \n",
    "    settings: SectionProxy\n",
    "    device_code_credential: DeviceCodeCredential\n",
    "    user_client: GraphClient\n",
    "\n",
    "    def __init__(self, config: SectionProxy):\n",
    "\n",
    "        self.settings = config\n",
    "        client_id = self.settings['clientId']\n",
    "        tenant_id = self.settings['authTenant']\n",
    "        graph_scopes = self.settings['graphUserScopes'].split(' ')\n",
    "\n",
    "        self.device_code_credential = DeviceCodeCredential(client_id, tenant_id = tenant_id)\n",
    "\n",
    "        self.user_client = GraphClient(credential=self.device_code_credential, scopes=graph_scopes)\n",
    "    \n",
    "    # <GetUserTokenSnippet>\n",
    "    def get_user_token(self):\n",
    "        graph_scopes = self.settings['graphUserScopes']\n",
    "        access_token = self.device_code_credential.get_token(graph_scopes)\n",
    "        return access_token.token\n",
    "\n",
    "    def get_user(self):\n",
    "        endpoint = '/me'\n",
    "        # Only request specific properties\n",
    "        select = 'displayName,mail,userPrincipalName'\n",
    "        request_url = f'{endpoint}?$select={select}'\n",
    "\n",
    "        user_response = self.user_client.get(request_url)\n",
    "        return user_response.json()\n",
    "    \n",
    "    def get_inbox(self):\n",
    "        endpoint = '/me/mailFolders/inbox/messages'\n",
    "        # Only request specific properties\n",
    "        select = 'from,isRead,receivedDateTime,subject'\n",
    "        # Get at most 25 results\n",
    "        top = 25\n",
    "        # Sort by received time, newest first\n",
    "        order_by = 'receivedDateTime DESC'\n",
    "        request_url = f'{endpoint}?$select={select}&$top={top}&$orderBy={order_by}'\n",
    "\n",
    "        inbox_response = self.user_client.get(request_url)\n",
    "        return inbox_response.json()\n",
    "        "
   ]
  },
  {
   "cell_type": "markdown",
   "metadata": {},
   "source": [
    "# Task Specific function"
   ]
  },
  {
   "cell_type": "code",
   "execution_count": null,
   "metadata": {},
   "outputs": [],
   "source": [
    "def greet_user(graph: Graph):\n",
    "    user = graph.get_user()\n",
    "    print('Hello,', user['displayName'])\n",
    "    # For Work/school accounts, email is in mail property\n",
    "    # Personal accounts, email is in userPrincipalName\n",
    "    print('Email:', user['mail'] or user['userPrincipalName'], '\\n')"
   ]
  },
  {
   "cell_type": "code",
   "execution_count": null,
   "metadata": {},
   "outputs": [],
   "source": [
    "def display_access_token(graph: Graph):\n",
    "    token = graph.get_user_token()\n",
    "    print('User token:', token, '\\n')"
   ]
  },
  {
   "cell_type": "code",
   "execution_count": null,
   "metadata": {},
   "outputs": [],
   "source": [
    "\n",
    "def list_inbox(graph: Graph):\n",
    "    message_page = graph.get_inbox()\n",
    "\n",
    "    # Output each message's details\n",
    "    for message in message_page['value']:\n",
    "        print('Message:', message['subject'])\n",
    "        print('  From:', message['from']['emailAddress']['name'])\n",
    "        print('  Status:', 'Read' if message['isRead'] else 'Unread')\n",
    "        print('  Received:', message['receivedDateTime'])\n",
    "\n",
    "    # If @odata.nextLink is present\n",
    "    more_available = '@odata.nextLink' in message_page\n",
    "    print('\\nMore messages available?', more_available, '\\n')"
   ]
  },
  {
   "cell_type": "code",
   "execution_count": null,
   "metadata": {},
   "outputs": [],
   "source": [
    "\n",
    "def send_mail(graph: Graph):\n",
    "    # TODO\n",
    "    return"
   ]
  },
  {
   "cell_type": "code",
   "execution_count": null,
   "metadata": {},
   "outputs": [],
   "source": [
    "\n",
    "def list_users(graph: Graph):\n",
    "    # TODO\n",
    "    return"
   ]
  },
  {
   "cell_type": "code",
   "execution_count": null,
   "metadata": {},
   "outputs": [],
   "source": [
    "\n",
    "def make_graph_call(graph: Graph):\n",
    "    # TODO\n",
    "    return"
   ]
  },
  {
   "cell_type": "markdown",
   "metadata": {},
   "source": [
    "# Main python file"
   ]
  },
  {
   "cell_type": "code",
   "execution_count": null,
   "metadata": {},
   "outputs": [],
   "source": [
    "import configparser\n",
    "# from graph import Graph"
   ]
  },
  {
   "cell_type": "code",
   "execution_count": null,
   "metadata": {},
   "outputs": [],
   "source": [
    "def main():\n",
    "    print('Python Graph Tutorial\\n')\n",
    "\n",
    "    # Load settings\n",
    "    config = configparser.ConfigParser()\n",
    "    config.read(['config.cfg', 'config.dev.cfg'])\n",
    "    azure_settings = config['azure']\n",
    "\n",
    "    graph: Graph = Graph(azure_settings)\n",
    "\n",
    "    greet_user(graph)\n",
    "\n",
    "    choice = -1\n",
    "\n",
    "    while choice != 0:\n",
    "        print('Please choose one of the following options:')\n",
    "        print('0. Exit')\n",
    "        print('1. Display access token')\n",
    "        print('2. List my inbox')\n",
    "        print('3. Send mail')\n",
    "        print('4. List users (requires app-only)')\n",
    "        print('5. Make a Graph call')\n",
    "\n",
    "        try:\n",
    "            choice = int(input())\n",
    "        except ValueError:\n",
    "            choice = -1\n",
    "\n",
    "        if choice == 0:\n",
    "            print('Goodbye...')\n",
    "        elif choice == 1:\n",
    "            display_access_token(graph)\n",
    "        elif choice == 2:\n",
    "            list_inbox(graph)\n",
    "        elif choice == 3:\n",
    "            send_mail(graph)\n",
    "        elif choice == 4:\n",
    "            list_users(graph)\n",
    "        elif choice == 5:\n",
    "            make_graph_call(graph)\n",
    "        else:\n",
    "            print('Invalid choice!\\n')"
   ]
  },
  {
   "cell_type": "code",
   "execution_count": null,
   "metadata": {},
   "outputs": [],
   "source": [
    "main()"
   ]
  },
  {
   "cell_type": "code",
   "execution_count": null,
   "metadata": {},
   "outputs": [],
   "source": []
  }
 ],
 "metadata": {
  "kernelspec": {
   "display_name": "Python 3.9.12 ('base')",
   "language": "python",
   "name": "python3"
  },
  "language_info": {
   "codemirror_mode": {
    "name": "ipython",
    "version": 3
   },
   "file_extension": ".py",
   "mimetype": "text/x-python",
   "name": "python",
   "nbconvert_exporter": "python",
   "pygments_lexer": "ipython3",
   "version": "3.9.12"
  },
  "vscode": {
   "interpreter": {
    "hash": "466db9f32c1c88b86c7f961d49ad86adda2506db7f2c7f48b3c7db2633a079c5"
   }
  }
 },
 "nbformat": 4,
 "nbformat_minor": 2
}
